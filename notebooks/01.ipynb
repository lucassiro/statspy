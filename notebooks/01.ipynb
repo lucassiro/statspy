{
 "cells": [
  {
   "cell_type": "code",
   "execution_count": 1,
   "metadata": {},
   "outputs": [],
   "source": [
    "import random\n",
    "import statistics\n",
    "\n",
    "import statspy as sp"
   ]
  },
  {
   "cell_type": "markdown",
   "metadata": {},
   "source": [
    "#### Creating an array"
   ]
  },
  {
   "cell_type": "code",
   "execution_count": 2,
   "metadata": {},
   "outputs": [
    {
     "data": {
      "text/plain": [
       "[25, 25, 4, 91, 63, 18, 68, 100, 5, 64, 83, 76]"
      ]
     },
     "execution_count": 2,
     "metadata": {},
     "output_type": "execute_result"
    }
   ],
   "source": [
    "array = [random.randint(0, 100) for i in range(10)]\n",
    "array = [25, 25, *array]\n",
    "array"
   ]
  },
  {
   "cell_type": "markdown",
   "metadata": {},
   "source": [
    "### Location params"
   ]
  },
  {
   "cell_type": "code",
   "execution_count": 3,
   "metadata": {},
   "outputs": [
    {
     "name": "stdout",
     "output_type": "stream",
     "text": [
      "stats mean: 51.833333333333336\n",
      "statspy mean: 51.833333333333336\n"
     ]
    }
   ],
   "source": [
    "print(f\"stats mean: {statistics.mean(array)}\")\n",
    "print(f\"statspy mean: {sp.mean(array)}\")"
   ]
  },
  {
   "cell_type": "code",
   "execution_count": 4,
   "metadata": {},
   "outputs": [
    {
     "name": "stdout",
     "output_type": "stream",
     "text": [
      "stats median: 63.5\n",
      "statspy median: 63.5\n"
     ]
    }
   ],
   "source": [
    "print(f\"stats median: {statistics.median(array)}\")\n",
    "print(f\"statspy median: {sp.median(array)}\")"
   ]
  },
  {
   "cell_type": "code",
   "execution_count": 5,
   "metadata": {},
   "outputs": [
    {
     "name": "stdout",
     "output_type": "stream",
     "text": [
      "stats mode: 25\n",
      "statspy mode: [25]\n"
     ]
    }
   ],
   "source": [
    "print(f\"stats mode: {statistics.mode(array)}\")\n",
    "print(f\"statspy mode: {sp.mode(array)}\")"
   ]
  },
  {
   "cell_type": "markdown",
   "metadata": {},
   "source": [
    "### Dispersion params"
   ]
  },
  {
   "cell_type": "code",
   "execution_count": 6,
   "metadata": {},
   "outputs": [
    {
     "name": "stdout",
     "output_type": "stream",
     "text": [
      "stats sample stdev: 34.39036158136418\n",
      "statspy sample stdev: 34.39036158136418\n"
     ]
    }
   ],
   "source": [
    "print(f\"stats sample stdev: {statistics.stdev(array)}\")\n",
    "print(f\"statspy sample stdev: {sp.stdev(array)}\")"
   ]
  },
  {
   "cell_type": "code",
   "execution_count": 7,
   "metadata": {},
   "outputs": [
    {
     "name": "stdout",
     "output_type": "stream",
     "text": [
      "stats population stdev: 32.926264423540196\n",
      "statspy population stdev: 32.926264423540196\n"
     ]
    }
   ],
   "source": [
    "print(f\"stats population stdev: {statistics.pstdev(array)}\")\n",
    "print(f\"statspy population stdev: {sp.pstdev(array)}\")"
   ]
  },
  {
   "cell_type": "code",
   "execution_count": 8,
   "metadata": {},
   "outputs": [
    {
     "name": "stdout",
     "output_type": "stream",
     "text": [
      "stats sample variance: 1182.6969696969697\n",
      "statspy sample variance: 1182.6969696969697\n"
     ]
    }
   ],
   "source": [
    "print(f\"stats sample variance: {statistics.variance(array)}\")\n",
    "print(f\"statspy sample variance: {sp.variance(array)}\")"
   ]
  },
  {
   "cell_type": "code",
   "execution_count": 9,
   "metadata": {},
   "outputs": [
    {
     "name": "stdout",
     "output_type": "stream",
     "text": [
      "stats population variance: 1084.138888888889\n",
      "statspy population variance: 1084.138888888889\n"
     ]
    }
   ],
   "source": [
    "print(f\"stats population variance: {statistics.pvariance(array)}\")\n",
    "print(f\"statspy population variance: {sp.pvariance(array)}\")"
   ]
  },
  {
   "cell_type": "markdown",
   "metadata": {},
   "source": [
    "# Tests"
   ]
  },
  {
   "cell_type": "code",
   "execution_count": null,
   "metadata": {},
   "outputs": [],
   "source": []
  }
 ],
 "metadata": {
  "kernelspec": {
   "display_name": "statspy-kLKw4TpD-py3.12",
   "language": "python",
   "name": "python3"
  },
  "language_info": {
   "codemirror_mode": {
    "name": "ipython",
    "version": 3
   },
   "file_extension": ".py",
   "mimetype": "text/x-python",
   "name": "python",
   "nbconvert_exporter": "python",
   "pygments_lexer": "ipython3",
   "version": "3.12.3"
  }
 },
 "nbformat": 4,
 "nbformat_minor": 2
}
